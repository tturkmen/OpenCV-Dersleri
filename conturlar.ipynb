{
 "cells": [
  {
   "cell_type": "markdown",
   "id": "7ad708cf-e1be-417c-96fd-be362678aa0e",
   "metadata": {},
   "source": [
    "Bu dersimizde konturları öğreneceğiz. Kontur aslında renkler arasındaki farklara verilen addır."
   ]
  },
  {
   "cell_type": "code",
   "execution_count": 9,
   "id": "531152c5-3daa-47b6-8027-f9b9ee1e2946",
   "metadata": {},
   "outputs": [],
   "source": [
    "import cv2\n",
    "import numpy as np\n",
    "resim=cv2.imread(\"sekil.png\")\n",
    "#resmi griye çevirelim\n",
    "gray=cv2.cvtColor(resim,cv2.COLOR_BGR2GRAY)\n",
    "#gri resmin köşelerini bulalım\n",
    "canny=cv2.Canny(gray,150,150)\n",
    "#bulunan cannyye göre şekilleri bulalım\n",
    "contours,_=cv2.findContours(canny,cv2.RETR_EXTERNAL,cv2.CHAIN_APPROX_NONE)\n",
    "#daha sonra bütün şekilleri gezelim\n",
    "for cnt in contours:\n",
    "    cv2.drawContours(resim,cnt,-1,(0,0,255),5)\n",
    "    cv2.imshow(\"Canny\",canny)\n",
    "cv2.imshow(\"Resim\",resim)\n",
    "cv2.waitKey(0)\n",
    "cv2.destroyAllWindows()\n"
   ]
  },
  {
   "cell_type": "markdown",
   "id": "513cfea6-a4f8-4b9f-9be0-ad753b8bd276",
   "metadata": {},
   "source": [
    "Yukardaki kodu biraz değiştirerek köşe sayısını bulalım bunun için kullanılan kod\n",
    " approx=cv2.approxPolyDP(cnt,0.01*cv2.arcLength(cnt,True),True)\r",
    "  kose_sayisi=len(approx\n",
    "\n",
    " Köşe sayısını yazdırmak için de cv2.putText fonksiyonunu kullanacağız.\n",
    " Bundan önce şekilleri x,y,w,h değerlerini almalıyız\n",
    " x,y-->şeklin sol üst tarafı biz bunu şeklin ortasında yazdırmak için\n",
    " x,y,w,h=cv2.boundingRect(approx)\r\n",
    "        cv2.putText(resim,str(kose_sayisi),(x+int(w/2),y+int(h/2)),)"
   ]
  },
  {
   "cell_type": "code",
   "execution_count": 11,
   "id": "0cc00492-09bf-4149-9699-78226f89a1bd",
   "metadata": {},
   "outputs": [],
   "source": [
    "import cv2\n",
    "import numpy as np\n",
    "resim=cv2.imread(\"sekil.png\")\n",
    "#resmi griye çevirelim\n",
    "gray=cv2.cvtColor(resim,cv2.COLOR_BGR2GRAY)\n",
    "#gri resmin köşelerini bulalım\n",
    "canny=cv2.Canny(gray,150,150)\n",
    "#bulunan cannyye göre şekilleri bulalım\n",
    "contours,_=cv2.findContours(canny,cv2.RETR_EXTERNAL,cv2.CHAIN_APPROX_NONE)\n",
    "#daha sonra bütün şekilleri gezelim\n",
    "for cnt in contours:\n",
    "    cv2.drawContours(resim,cnt,-1,(0,0,255),5)\n",
    "    approx=cv2.approxPolyDP(cnt,0.01*cv2.arcLength(cnt,True),True)\n",
    "    kose_sayisi=len(approx)\n",
    "    x,y,w,h=cv2.boundingRect(approx)\n",
    "    cv2.putText(resim,str(kose_sayisi),(x+int(w/2),y+int(h/2)),cv2.FONT_HERSHEY_COMPLEX,1,(255,0,0))\n",
    "    cv2.imshow(\"Canny\",canny)\n",
    "cv2.imshow(\"Resim\",resim)\n",
    "cv2.waitKey(0)\n",
    "cv2.destroyAllWindows()"
   ]
  },
  {
   "cell_type": "code",
   "execution_count": null,
   "id": "1384155f-6118-4248-96cf-690a5d2f3cc3",
   "metadata": {},
   "outputs": [],
   "source": []
  }
 ],
 "metadata": {
  "kernelspec": {
   "display_name": "Python 3 (ipykernel)",
   "language": "python",
   "name": "python3"
  },
  "language_info": {
   "codemirror_mode": {
    "name": "ipython",
    "version": 3
   },
   "file_extension": ".py",
   "mimetype": "text/x-python",
   "name": "python",
   "nbconvert_exporter": "python",
   "pygments_lexer": "ipython3",
   "version": "3.10.12"
  }
 },
 "nbformat": 4,
 "nbformat_minor": 5
}
