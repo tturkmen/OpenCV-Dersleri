{
 "cells": [
  {
   "cell_type": "markdown",
   "id": "a8fcd8a7-516b-4630-af79-e7363b33ee3e",
   "metadata": {},
   "source": [
    "Daha detaylı bilgi için https://opencv24-python-tutorials.readthedocs.io/en/latest/py_tutorials/py_imgproc/py_houghlines/py_houghlines.html sayfasına bakabilirsiniz"
   ]
  },
  {
   "cell_type": "code",
   "execution_count": 80,
   "id": "f5c189e1-0bb1-4eda-9102-08e8eb528081",
   "metadata": {},
   "outputs": [],
   "source": [
    "import cv2\n",
    "import numpy as np\n",
    "\n",
    "img_orjinal = cv2.imread('su_doku.png')\n",
    "img_orjinal=cv2.resize(img_orjinal,(0,0),fx=0.5,fy=0.5)\n",
    "img=img_orjinal.copy()\n",
    "gray = cv2.cvtColor(img,cv2.COLOR_BGR2GRAY)\n",
    "edges = cv2.Canny(gray,30,50)\n",
    "\n",
    "\n",
    "\n",
    "lines = cv2.HoughLines(edges,1,np.pi/180,200)\n",
    "if lines is not None:\n",
    "    for line in lines:\n",
    "        for rho, theta in line:\n",
    "            a=np.cos(theta)\n",
    "            b=np.sin(theta)\n",
    "            x0=a*rho\n",
    "            y0=b*rho\n",
    "            x1=int(x0+1000*(-b))\n",
    "            y1=int(y0+1000*(a))\n",
    "            x2=int(x0-1000*(-b))\n",
    "            y2=int(y0-1000*(a))\n",
    "      \n",
    "            cv2.line(img,(x1,y1),(x2,y2),(0,0,255),2)\n",
    "    \n",
    "cv2.imshow(\"orjinal\",img_orjinal)\n",
    "cv2.imshow(\"img_son\",img)\n",
    "cv2.imshow(\"cizgiler\",edges)\n",
    "cv2.waitKey(0)\n",
    "cv2.destroyAllWindows()"
   ]
  },
  {
   "cell_type": "markdown",
   "id": "68e424ef-219c-4479-b2e5-58023b11cee3",
   "metadata": {},
   "source": [
    "Buna trackbar ekleyerek parametre değerini kendimiz en iyileyebiliriz."
   ]
  },
  {
   "cell_type": "code",
   "execution_count": 8,
   "id": "157a00d2-5c2f-436f-9578-4ece1c2cfcb2",
   "metadata": {},
   "outputs": [],
   "source": [
    "import cv2\n",
    "import numpy as np\n",
    "\n",
    "img_orjinal = cv2.imread('su_doku.png')\n",
    "img_orjinal=cv2.resize(img_orjinal,(0,0),fx=0.5,fy=0.5)\n",
    "gray = cv2.cvtColor(img,cv2.COLOR_BGR2GRAY)\n",
    "edges = cv2.Canny(gray,30,50)\n",
    "\n",
    "def nothing(x):\n",
    "    pass\n",
    "cv2.namedWindow(\"trackbar\",cv2.WINDOW_AUTOSIZE)\n",
    "cv2.createTrackbar(\"threshold\",\"trackbar\",0,300,nothing)\n",
    "\n",
    "while 1:\n",
    "    img=img_orjinal.copy()\n",
    "    threshold=cv2.getTrackbarPos(\"threshold\",\"trackbar\")+1\n",
    "    lines = cv2.HoughLinesP(edges,1,np.pi/180,threshold,30,20)\n",
    "    if lines is not None:\n",
    "        for line in lines:\n",
    "            for x1,y1,x2,y2 in line:\n",
    "                cv2.line(img,(x1,y1),(x2,y2),(0,0,255),2)\n",
    "        \n",
    "    cv2.imshow(\"img_son\",img)\n",
    "    if cv2.waitKey(25) & 0xff==27:\n",
    "        break\n",
    "cv2.destroyAllWindows()"
   ]
  },
  {
   "cell_type": "markdown",
   "id": "5ed9ef84-589d-4354-8e3a-14d9f0bcf0e6",
   "metadata": {},
   "source": [
    "Araba yol tespit algoritması"
   ]
  },
  {
   "cell_type": "code",
   "execution_count": 13,
   "id": "6b8c4275-462d-4872-b33a-960c6a914a54",
   "metadata": {},
   "outputs": [
    {
     "name": "stdout",
     "output_type": "stream",
     "text": [
      "Kapatıldı\n",
      "Kapatıldı\n",
      "Kapatıldı\n",
      "Kapatıldı\n",
      "Bitti\n"
     ]
    }
   ],
   "source": [
    "import cv2\n",
    "cam=cv2.VideoCapture(\"car8.mp4\")\n",
    "\n",
    "while cam.isOpened():\n",
    "    ret,image=cam.read()\n",
    "    if not ret:\n",
    "        print(\"Bitti\")\n",
    "        break\n",
    "    img_org=image.copy()\n",
    "    cv2.imshow(\"image\",image)\n",
    "    key=cv2.waitKey(16) & 0xff\n",
    "    if key==27:\n",
    "        print(\"Kapatıldı\")\n",
    "cv2.destroyAllWindows()"
   ]
  },
  {
   "cell_type": "code",
   "execution_count": null,
   "id": "f86cede9-75bd-4e8d-b03d-e9fdd9a42403",
   "metadata": {},
   "outputs": [],
   "source": []
  }
 ],
 "metadata": {
  "kernelspec": {
   "display_name": "Python 3 (ipykernel)",
   "language": "python",
   "name": "python3"
  },
  "language_info": {
   "codemirror_mode": {
    "name": "ipython",
    "version": 3
   },
   "file_extension": ".py",
   "mimetype": "text/x-python",
   "name": "python",
   "nbconvert_exporter": "python",
   "pygments_lexer": "ipython3",
   "version": "3.10.12"
  }
 },
 "nbformat": 4,
 "nbformat_minor": 5
}
